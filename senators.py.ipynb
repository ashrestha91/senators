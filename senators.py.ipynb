{
 "cells": [
  {
   "cell_type": "code",
   "execution_count": 1,
   "metadata": {
    "collapsed": true
   },
   "outputs": [],
   "source": [
    "from collections import defaultdict\n",
    "from pymongo import MongoClient\n",
    "\n",
    "client = MongoClient()\n",
    "db = client[\"senators\"]\n",
    "coll = db[\"raw_xml\"]"
   ]
  },
  {
   "cell_type": "code",
   "execution_count": null,
   "metadata": {
    "collapsed": false,
    "scrolled": false
   },
   "outputs": [],
   "source": [
    "import requests\n",
    "import time\n",
    "import sys\n",
    "\n",
    "def try_request(url, retries=0):\n",
    "    if retries == 10:\n",
    "        print url\n",
    "    if retries > 15:\n",
    "        print url\n",
    "        return None\n",
    "    req = requests.get(url, headers={\n",
    "        'User-Agent': 'Mozilla/5.0 (X11; Ubuntu; Linux x86_64; rv:39.0) Gecko/20100101 Firefox/39.0'\n",
    "        })\n",
    "    try:\n",
    "        etree.fromstring(req.content)\n",
    "        return req.content\n",
    "    except:\n",
    "        time.sleep(retries)\n",
    "        return try_request(url, retries+1)\n",
    "\n",
    "# Load senate data\n",
    "\n",
    "for cong in range(101,115):\n",
    "    for sess in range(1,3):\n",
    "        root = etree.fromstring(try_request(\"http://www.senate.gov/legislative/LIS/roll_call_lists/vote_menu_{}_{}.xml\".format(cong, sess)))\n",
    "\n",
    "        for vote_num in root.xpath(\"votes/vote/vote_number\"):\n",
    "            if not coll.find_one({\"congress\": cong, \"session\": sess, \"vote_num\": vote_num.text}):\n",
    "                print cong, sess, vote_num.text\n",
    "                sys.stdout.flush()\n",
    "            \n",
    "                raw_xml = try_request(\"http://www.senate.gov/legislative/LIS/roll_call_votes/vote{cong}{sess}/vote_{cong}_{sess}_{vote_num}.xml\".format(cong=cong, sess=sess, vote_num=vote_num.text))\n",
    "                roll_call_vote = etree.fromstring(raw_xml)\n",
    "                member_votes = []\n",
    "                for member in roll_call_vote.xpath(\"members/member\"):\n",
    "                    name = member.find(\"member_full\").text\n",
    "                    vote = member.find(\"vote_cast\").text\n",
    "                    if vote=='Yea':\n",
    "                        vote_score = 1\n",
    "                    elif vote=='Nay':\n",
    "                        vote_score = -1\n",
    "                    else:\n",
    "                        vote_score = 0\n",
    "                    member_votes.append({ \n",
    "                            \"name\": name,\n",
    "                            \"vote_cast\": vote,\n",
    "                            \"vote_score\": vote_score\n",
    "                        })\n",
    "                coll.insert_one({\n",
    "                            \"raw\": raw_xml,\n",
    "                            \"congress\": cong,\n",
    "                            \"session\": sess,\n",
    "                            \"vote_num\": vote_num.text,\n",
    "                            \"votes\": member_votes\n",
    "                    })"
   ]
  },
  {
   "cell_type": "code",
   "execution_count": 2,
   "metadata": {
    "collapsed": false
   },
   "outputs": [],
   "source": [
    "votes = defaultdict(dict)\n",
    "\n",
    "for roll_call in coll.find({\"congress\": 113},{\"raw\":0}):\n",
    "    for member in roll_call[\"votes\"]:\n",
    "        votes[member[\"name\"]][(roll_call[\"session\"],roll_call[\"vote_num\"])] = member[\"vote_score\"]"
   ]
  },
  {
   "cell_type": "code",
   "execution_count": 3,
   "metadata": {
    "collapsed": false
   },
   "outputs": [
    {
     "name": "stderr",
     "output_type": "stream",
     "text": [
      "/usr/local/lib/python2.7/dist-packages/numpy/core/fromnumeric.py:2507: VisibleDeprecationWarning: `rank` is deprecated; use the `ndim` attribute or function instead. To find the rank of a matrix see `numpy.linalg.matrix_rank`.\n",
      "  VisibleDeprecationWarning)\n"
     ]
    }
   ],
   "source": [
    "from sklearn.feature_extraction import DictVectorizer\n",
    "\n",
    "senator_names = votes.keys()\n",
    "senators = [votes[name] for name in senator_names]\n",
    "dict_vectorizer = DictVectorizer()\n",
    "features = dict_vectorizer.fit_transform(senators)"
   ]
  },
  {
   "cell_type": "code",
   "execution_count": 5,
   "metadata": {
    "collapsed": false
   },
   "outputs": [],
   "source": [
    "from sklearn.cluster import AgglomerativeClustering\n",
    "\n",
    "labels = AgglomerativeClustering().fit_predict(features.toarray())"
   ]
  },
  {
   "cell_type": "code",
   "execution_count": 53,
   "metadata": {
    "collapsed": false
   },
   "outputs": [
    {
     "data": {
      "image/png": "[encoded data removed]",
      "text/plain": [
       "<matplotlib.figure.Figure at 0x7f80d1366490>"
      ]
     },
     "metadata": {},
     "output_type": "display_data"
    }
   ],
   "source": [
    "from sklearn.manifold import MDS\n",
    "import matplotlib.pyplot as plt\n",
    "import numpy as np\n",
    "import random\n",
    "\n",
    "mds = MDS(n_components=1)\n",
    "partisanship = mds.fit_transform(features.toarray())\n",
    "\n",
    "%matplotlib inline\n",
    "plt.scatter(partisanship, np.zeros_like(partisanship), c=labels,marker=\"|\",s=1000)\n",
    "# y=np.ones(np.shape(partisanship))\n",
    "# plt.plot(partisanship,y,\"|\",ms=40,c=labels)\n",
    "plt.axis(\"off\")\n",
    "\n",
    "# for name, val in zip(senator_names, partisanship)[0:2]:\n",
    "#     plt.annotate(name, xy = (val, 0), xytext = (0, 1),\n",
    "#         textcoords = 'offset points', ha = 'right', va = 'bottom')\n",
    "plt.show()"
   ]
  }
 ],
 "metadata": {
  "kernelspec": {
   "display_name": "Python 2",
   "language": "python",
   "name": "python2"
  },
  "language_info": {
   "codemirror_mode": {
    "name": "ipython",
    "version": 2
   },
   "file_extension": ".py",
   "mimetype": "text/x-python",
   "name": "python",
   "nbconvert_exporter": "python",
   "pygments_lexer": "ipython2",
   "version": "2.7.6"
  }
 },
 "nbformat": 4,
 "nbformat_minor": 0
}
